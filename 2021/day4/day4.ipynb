{
 "cells": [
  {
   "cell_type": "markdown",
   "metadata": {},
   "source": [
    "# Part 1"
   ]
  },
  {
   "cell_type": "code",
   "execution_count": 107,
   "metadata": {},
   "outputs": [],
   "source": [
    "from itertools import product\n",
    "from collections import Counter\n",
    "\n",
    "import numpy as np\n",
    "\n",
    "with open(\"input.txt\") as f:\n",
    "    input = f.read()\n",
    "numbers, boards = input.split(\"\\n\\n\", maxsplit=1)\n",
    "numbers = [int(x) for x in numbers.split(\",\")]\n",
    "boards = boards.split(\"\\n\\n\")\n",
    "boards = [board.split(\"\\n\") for board in boards]\n",
    "boards = [[[int(x) for x in row.split()] for row in board] for board in boards]\n",
    "board_list = []\n",
    "for board in boards:\n",
    "    board_list.append(\n",
    "        {\n",
    "            \"cells\": [\n",
    "                [{\"num\": num, \"marked\": 0} for num in row] for row in board\n",
    "            ],\n",
    "            \"rows\": [0, 0, 0, 0, 0],\n",
    "            \"columns\": [0, 0, 0, 0, 0],\n",
    "            \"winning_numbers\": [],\n",
    "            \"winning_boards\": [],\n",
    "        }\n",
    "    )\n",
    "boards = {\n",
    "    \"board_list\": board_list,\n",
    "    \"winning_numbers\": [],\n",
    "    \"winning_boards\": [],\n",
    "}\n",
    "\n",
    "\n",
    "def bingo():\n",
    "    for number in numbers:\n",
    "        for board in boards:\n",
    "            for i, row in enumerate(board[\"cells\"]):\n",
    "                for j, cell in enumerate(row):\n",
    "                    if cell[\"num\"] == number:\n",
    "                        cell[\"marked\"] = 1\n",
    "                        board[\"rows\"][i] += 1\n",
    "                        board[\"columns\"][j] += 1\n",
    "                        if board[\"rows\"][i] == 5 or board[\"columns\"][j] == 5:\n",
    "                            return number, board\n",
    "\n",
    "\n",
    "def score(number, board):\n",
    "    unmarked_numbers = [\n",
    "        cell[\"num\"]\n",
    "        for row in board[\"cells\"]\n",
    "        for cell in row\n",
    "        if not cell[\"marked\"]\n",
    "    ]\n",
    "    return sum(unmarked_numbers) * number\n",
    "\n",
    "\n",
    "winning_number, winning_board = bingo()\n",
    "\n",
    "\n",
    "# When a number is called, do the following:\n",
    "# For each occurance of that number\n",
    "# 1. Mark that number\n",
    "# 2. Increment that row and column\n",
    "# 3. See whether any row or column is fully marked\n",
    "# 4. If so, stop and score\n"
   ]
  },
  {
   "cell_type": "code",
   "execution_count": 108,
   "metadata": {},
   "outputs": [
    {
     "data": {
      "text/plain": [
       "False"
      ]
     },
     "execution_count": 108,
     "metadata": {},
     "output_type": "execute_result"
    }
   ],
   "source": [
    "# Are there any duplicates?\n",
    "Counter(numbers).most_common(1)[0][1] > 1\n"
   ]
  },
  {
   "cell_type": "code",
   "execution_count": 109,
   "metadata": {},
   "outputs": [
    {
     "data": {
      "text/plain": [
       "75"
      ]
     },
     "execution_count": 109,
     "metadata": {},
     "output_type": "execute_result"
    }
   ],
   "source": [
    "winning_number\n"
   ]
  },
  {
   "cell_type": "code",
   "execution_count": 110,
   "metadata": {},
   "outputs": [
    {
     "data": {
      "text/plain": [
       "{'cells': [[{'num': 24, 'marked': 0},\n",
       "   {'num': 9, 'marked': 0},\n",
       "   {'num': 94, 'marked': 0},\n",
       "   {'num': 69, 'marked': 0},\n",
       "   {'num': 65, 'marked': 1}],\n",
       "  [{'num': 97, 'marked': 0},\n",
       "   {'num': 84, 'marked': 1},\n",
       "   {'num': 85, 'marked': 0},\n",
       "   {'num': 53, 'marked': 0},\n",
       "   {'num': 5, 'marked': 1}],\n",
       "  [{'num': 92, 'marked': 0},\n",
       "   {'num': 11, 'marked': 0},\n",
       "   {'num': 61, 'marked': 0},\n",
       "   {'num': 77, 'marked': 1},\n",
       "   {'num': 8, 'marked': 0}],\n",
       "  [{'num': 21, 'marked': 1},\n",
       "   {'num': 75, 'marked': 1},\n",
       "   {'num': 33, 'marked': 1},\n",
       "   {'num': 57, 'marked': 1},\n",
       "   {'num': 63, 'marked': 1}],\n",
       "  [{'num': 43, 'marked': 1},\n",
       "   {'num': 68, 'marked': 0},\n",
       "   {'num': 55, 'marked': 0},\n",
       "   {'num': 52, 'marked': 0},\n",
       "   {'num': 93, 'marked': 0}]],\n",
       " 'rows': [1, 2, 1, 5, 1],\n",
       " 'columns': [2, 2, 1, 2, 3]}"
      ]
     },
     "execution_count": 110,
     "metadata": {},
     "output_type": "execute_result"
    }
   ],
   "source": [
    "winning_board\n"
   ]
  },
  {
   "cell_type": "code",
   "execution_count": 111,
   "metadata": {},
   "outputs": [
    {
     "data": {
      "text/plain": [
       "65325"
      ]
     },
     "execution_count": 111,
     "metadata": {},
     "output_type": "execute_result"
    }
   ],
   "source": [
    "score(winning_number, winning_board)\n"
   ]
  },
  {
   "cell_type": "markdown",
   "metadata": {},
   "source": [
    "# Part 2\n",
    "\n",
    "On the other hand, it might be wise to try a different strategy: let the giant squid win.\n",
    "\n",
    "You aren't sure how many bingo boards a giant squid could play at once, so rather than waste time counting its arms, the safe thing to do is to figure out which board will win last and choose that one. That way, no matter which boards it picks, it will win for sure.\n",
    "\n",
    "In the above example, the second board is the last to win, which happens after 13 is eventually called and its middle column is completely marked. If you were to keep playing until this point, the second board would have a sum of unmarked numbers equal to 148 for a final score of 148 * 13 = 1924.\n",
    "\n",
    "Figure out which board will win last. Once it wins, what would its final score be?"
   ]
  },
  {
   "cell_type": "code",
   "execution_count": 118,
   "metadata": {},
   "outputs": [
    {
     "ename": "KeyError",
     "evalue": "'cells'",
     "output_type": "error",
     "traceback": [
      "\u001b[1;31m---------------------------------------------------------------------------\u001b[0m",
      "\u001b[1;31mKeyError\u001b[0m                                  Traceback (most recent call last)",
      "\u001b[1;32m~\\AppData\\Local\\Temp/ipykernel_5856/2289853320.py\u001b[0m in \u001b[0;36m<module>\u001b[1;34m\u001b[0m\n\u001b[0;32m     70\u001b[0m     \u001b[1;32mreturn\u001b[0m \u001b[0msum\u001b[0m\u001b[1;33m(\u001b[0m\u001b[0munmarked_numbers\u001b[0m\u001b[1;33m)\u001b[0m \u001b[1;33m*\u001b[0m \u001b[0mnumber\u001b[0m\u001b[1;33m\u001b[0m\u001b[1;33m\u001b[0m\u001b[0m\n\u001b[0;32m     71\u001b[0m \u001b[1;33m\u001b[0m\u001b[0m\n\u001b[1;32m---> 72\u001b[1;33m \u001b[0mwinning_numbers\u001b[0m\u001b[1;33m,\u001b[0m \u001b[0mwinning_boards\u001b[0m \u001b[1;33m=\u001b[0m \u001b[0mbingo2\u001b[0m\u001b[1;33m(\u001b[0m\u001b[0mnumbers\u001b[0m\u001b[1;33m,\u001b[0m \u001b[0mboards\u001b[0m\u001b[1;33m)\u001b[0m\u001b[1;33m\u001b[0m\u001b[1;33m\u001b[0m\u001b[0m\n\u001b[0m",
      "\u001b[1;32m~\\AppData\\Local\\Temp/ipykernel_5856/2289853320.py\u001b[0m in \u001b[0;36mbingo2\u001b[1;34m(numbers, boards)\u001b[0m\n\u001b[0;32m     35\u001b[0m     \u001b[1;32mwhile\u001b[0m \u001b[0mnumbers\u001b[0m \u001b[1;32mand\u001b[0m \u001b[0mboards\u001b[0m\u001b[1;33m[\u001b[0m\u001b[1;34m\"board_list\"\u001b[0m\u001b[1;33m]\u001b[0m\u001b[1;33m:\u001b[0m\u001b[1;33m\u001b[0m\u001b[1;33m\u001b[0m\u001b[0m\n\u001b[0;32m     36\u001b[0m         \u001b[0mnumber\u001b[0m \u001b[1;33m=\u001b[0m \u001b[0mnumbers\u001b[0m\u001b[1;33m.\u001b[0m\u001b[0mpop\u001b[0m\u001b[1;33m(\u001b[0m\u001b[1;36m0\u001b[0m\u001b[1;33m)\u001b[0m\u001b[1;33m\u001b[0m\u001b[1;33m\u001b[0m\u001b[0m\n\u001b[1;32m---> 37\u001b[1;33m         \u001b[0mboards\u001b[0m \u001b[1;33m=\u001b[0m \u001b[0mbingo_round\u001b[0m\u001b[1;33m(\u001b[0m\u001b[0mnumber\u001b[0m\u001b[1;33m,\u001b[0m \u001b[0mboards\u001b[0m\u001b[1;33m)\u001b[0m\u001b[1;33m\u001b[0m\u001b[1;33m\u001b[0m\u001b[0m\n\u001b[0m\u001b[0;32m     38\u001b[0m     \u001b[1;32mreturn\u001b[0m \u001b[0mboards\u001b[0m\u001b[1;33m[\u001b[0m\u001b[1;34m\"winning_numbers\"\u001b[0m\u001b[1;33m]\u001b[0m\u001b[1;33m,\u001b[0m \u001b[0mboards\u001b[0m\u001b[1;33m[\u001b[0m\u001b[1;34m\"winning_boards\"\u001b[0m\u001b[1;33m]\u001b[0m\u001b[1;33m\u001b[0m\u001b[1;33m\u001b[0m\u001b[0m\n\u001b[0;32m     39\u001b[0m \u001b[1;33m\u001b[0m\u001b[0m\n",
      "\u001b[1;32m~\\AppData\\Local\\Temp/ipykernel_5856/2289853320.py\u001b[0m in \u001b[0;36mbingo_round\u001b[1;34m(number, boards)\u001b[0m\n\u001b[0;32m     42\u001b[0m     \u001b[1;31m# Remove winning boards\u001b[0m\u001b[1;33m\u001b[0m\u001b[1;33m\u001b[0m\u001b[0m\n\u001b[0;32m     43\u001b[0m     \u001b[1;32mfor\u001b[0m \u001b[0mboard\u001b[0m \u001b[1;32min\u001b[0m \u001b[0mboards\u001b[0m\u001b[1;33m:\u001b[0m\u001b[1;33m\u001b[0m\u001b[1;33m\u001b[0m\u001b[0m\n\u001b[1;32m---> 44\u001b[1;33m         \u001b[0mmark_board\u001b[0m\u001b[1;33m(\u001b[0m\u001b[0mnumber\u001b[0m\u001b[1;33m,\u001b[0m \u001b[0mboards\u001b[0m\u001b[1;33m)\u001b[0m\u001b[1;33m\u001b[0m\u001b[1;33m\u001b[0m\u001b[0m\n\u001b[0m\u001b[0;32m     45\u001b[0m         \u001b[1;32mif\u001b[0m \u001b[0mcheck_board\u001b[0m\u001b[1;33m(\u001b[0m\u001b[0mboards\u001b[0m\u001b[1;33m)\u001b[0m\u001b[1;33m:\u001b[0m\u001b[1;33m\u001b[0m\u001b[1;33m\u001b[0m\u001b[0m\n\u001b[0;32m     46\u001b[0m             \u001b[0mboards\u001b[0m\u001b[1;33m[\u001b[0m\u001b[1;34m\"winning_number\"\u001b[0m\u001b[1;33m]\u001b[0m \u001b[1;33m+=\u001b[0m \u001b[0mnumber\u001b[0m\u001b[1;33m\u001b[0m\u001b[1;33m\u001b[0m\u001b[0m\n",
      "\u001b[1;32m~\\AppData\\Local\\Temp/ipykernel_5856/2289853320.py\u001b[0m in \u001b[0;36mmark_board\u001b[1;34m(number, board)\u001b[0m\n\u001b[0;32m     50\u001b[0m \u001b[1;33m\u001b[0m\u001b[0m\n\u001b[0;32m     51\u001b[0m \u001b[1;32mdef\u001b[0m \u001b[0mmark_board\u001b[0m\u001b[1;33m(\u001b[0m\u001b[0mnumber\u001b[0m\u001b[1;33m,\u001b[0m \u001b[0mboard\u001b[0m\u001b[1;33m)\u001b[0m\u001b[1;33m:\u001b[0m\u001b[1;33m\u001b[0m\u001b[1;33m\u001b[0m\u001b[0m\n\u001b[1;32m---> 52\u001b[1;33m     \u001b[1;32mfor\u001b[0m \u001b[0mi\u001b[0m\u001b[1;33m,\u001b[0m \u001b[0mrow\u001b[0m \u001b[1;32min\u001b[0m \u001b[0menumerate\u001b[0m\u001b[1;33m(\u001b[0m\u001b[0mboard\u001b[0m\u001b[1;33m[\u001b[0m\u001b[1;34m\"cells\"\u001b[0m\u001b[1;33m]\u001b[0m\u001b[1;33m)\u001b[0m\u001b[1;33m:\u001b[0m\u001b[1;33m\u001b[0m\u001b[1;33m\u001b[0m\u001b[0m\n\u001b[0m\u001b[0;32m     53\u001b[0m         \u001b[1;32mfor\u001b[0m \u001b[0mj\u001b[0m\u001b[1;33m,\u001b[0m \u001b[0mcell\u001b[0m \u001b[1;32min\u001b[0m \u001b[0menumerate\u001b[0m\u001b[1;33m(\u001b[0m\u001b[0mrow\u001b[0m\u001b[1;33m)\u001b[0m\u001b[1;33m:\u001b[0m\u001b[1;33m\u001b[0m\u001b[1;33m\u001b[0m\u001b[0m\n\u001b[0;32m     54\u001b[0m             \u001b[1;32mif\u001b[0m \u001b[0mcell\u001b[0m\u001b[1;33m[\u001b[0m\u001b[1;34m\"num\"\u001b[0m\u001b[1;33m]\u001b[0m \u001b[1;33m==\u001b[0m \u001b[0mnumber\u001b[0m \u001b[1;32mand\u001b[0m \u001b[1;32mnot\u001b[0m \u001b[0mcell\u001b[0m\u001b[1;33m[\u001b[0m\u001b[1;34m\"marked\"\u001b[0m\u001b[1;33m]\u001b[0m\u001b[1;33m:\u001b[0m\u001b[1;33m\u001b[0m\u001b[1;33m\u001b[0m\u001b[0m\n",
      "\u001b[1;31mKeyError\u001b[0m: 'cells'"
     ]
    }
   ],
   "source": [
    "from itertools import product\n",
    "from collections import Counter\n",
    "\n",
    "import numpy as np\n",
    "\n",
    "with open(\"input.txt\") as f:\n",
    "    input = f.read()\n",
    "numbers, boards = input.split(\"\\n\\n\", maxsplit=1)\n",
    "numbers = [int(x) for x in numbers.split(\",\")]\n",
    "boards = boards.split(\"\\n\\n\")\n",
    "boards = [board.split(\"\\n\") for board in boards]\n",
    "boards = [[[int(x) for x in row.split()] for row in board] for board in boards]\n",
    "board_list = []\n",
    "for board in boards:\n",
    "    board_list.append(\n",
    "        {\n",
    "            \"cells\": [\n",
    "                [{\"num\": num, \"marked\": 0} for num in row] for row in board\n",
    "            ],\n",
    "            \"rows\": [0, 0, 0, 0, 0],\n",
    "            \"columns\": [0, 0, 0, 0, 0],\n",
    "            \"winning_numbers\": [],\n",
    "            \"winning_boards\": [],\n",
    "        }\n",
    "    )\n",
    "boards = {\n",
    "    \"board_list\": board_list,\n",
    "    \"winning_numbers\": [],\n",
    "    \"winning_boards\": [],\n",
    "}\n",
    "\n",
    "\n",
    "def bingo2(numbers, boards):\n",
    "    # Do rounds of bingo\n",
    "    while numbers and boards[\"board_list\"]:\n",
    "        number = numbers.pop(0)\n",
    "        boards = bingo_round(number, boards)\n",
    "    return boards[\"winning_numbers\"], boards[\"winning_boards\"]\n",
    "\n",
    "def bingo_round(number, boards):\n",
    "    # Mark all boards\n",
    "    # Remove winning boards\n",
    "    for board in boards:\n",
    "        mark_board(number, boards)\n",
    "        if check_board(boards):\n",
    "            boards[\"winning_number\"] += number\n",
    "            boards[\"winning_board\"] += board\n",
    "            boards[\"board_list\"].remove(board)\n",
    "    return boards\n",
    "\n",
    "def mark_board(number, board):\n",
    "    for i, row in enumerate(board[\"cells\"]):\n",
    "        for j, cell in enumerate(row):\n",
    "            if cell[\"num\"] == number and not cell[\"marked\"]:\n",
    "                cell[\"marked\"] = 1\n",
    "                board[\"rows\"][i] += 1\n",
    "                board[\"columns\"][j] += 1\n",
    "\n",
    "def check_board(board, size = 5):\n",
    "    return size in board[\"rows\"] + board[\"columns\"]\n",
    "\n",
    "\n",
    "def score(number, board):\n",
    "    unmarked_numbers = [\n",
    "        cell[\"num\"]\n",
    "        for row in board[\"cells\"]\n",
    "        for cell in row\n",
    "        if not cell[\"marked\"]\n",
    "    ]\n",
    "    return sum(unmarked_numbers) * number\n",
    "\n",
    "winning_numbers, winning_boards = bingo2(numbers, boards)\n"
   ]
  },
  {
   "cell_type": "code",
   "execution_count": null,
   "metadata": {},
   "outputs": [],
   "source": []
  },
  {
   "cell_type": "code",
   "execution_count": null,
   "metadata": {},
   "outputs": [],
   "source": []
  }
 ],
 "metadata": {
  "interpreter": {
   "hash": "6cc228d2ba9a67a69a72b8a8e6667c5623186cefc5ec4ed38bcbe628c20cf314"
  },
  "kernelspec": {
   "display_name": "Python 3.10.0 64-bit ('advent-env': conda)",
   "language": "python",
   "name": "python3"
  },
  "language_info": {
   "codemirror_mode": {
    "name": "ipython",
    "version": 3
   },
   "file_extension": ".py",
   "mimetype": "text/x-python",
   "name": "python",
   "nbconvert_exporter": "python",
   "pygments_lexer": "ipython3",
   "version": "3.10.0"
  },
  "orig_nbformat": 4
 },
 "nbformat": 4,
 "nbformat_minor": 2
}
