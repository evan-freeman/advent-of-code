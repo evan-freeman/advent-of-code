{
 "cells": [
  {
   "cell_type": "code",
   "execution_count": 58,
   "metadata": {},
   "outputs": [
    {
     "data": {
      "text/plain": [
       "5169"
      ]
     },
     "execution_count": 58,
     "metadata": {},
     "output_type": "execute_result"
    }
   ],
   "source": [
    "import re\n",
    "from IPython.display import display\n",
    "from itertools import product, chain\n",
    "\n",
    "with open(\"input.txt\") as f:\n",
    "    input = f.read()\n",
    "\n",
    "input = [input.split(\"\\n\")][0]\n",
    "del input[-1]\n",
    "lines = []\n",
    "regex = \",| -> \"\n",
    "for line in input:\n",
    "    split_line = re.split(regex, line)\n",
    "    lines.append(\n",
    "        {\n",
    "            \"x1\": int(split_line[0]),\n",
    "            \"y1\": int(split_line[1]),\n",
    "            \"x2\": int(split_line[2]),\n",
    "            \"y2\": int(split_line[3]),\n",
    "        }\n",
    "    )\n",
    "\n",
    "\n",
    "def straight(line):\n",
    "    return line[\"x1\"] == line[\"x2\"] or line[\"y1\"] == line[\"y2\"]\n",
    "\n",
    "\n",
    "straight_lines = [line for line in lines if straight(line)]\n",
    "\n",
    "\n",
    "def generate_points(line):\n",
    "    if line[\"x1\"] == line[\"x2\"]:\n",
    "        mini = min(line[\"y1\"], line[\"y2\"])\n",
    "        maxi = max(line[\"y1\"], line[\"y2\"])\n",
    "        return [(line[\"x1\"], y) for y in range(mini, maxi + 1)]\n",
    "    else:\n",
    "        mini = min(line[\"x1\"], line[\"x2\"])\n",
    "        maxi = max(line[\"x1\"], line[\"x2\"])\n",
    "        return [(x, line[\"y1\"]) for x in range(mini, maxi + 1)]\n",
    "\n",
    "\n",
    "dim = max(chain(*[line.values() for line in lines])) + 1\n",
    "# display(dim)\n",
    "matrix = [[0] * dim for none in range(dim)]\n",
    "\n",
    "for line in straight_lines:\n",
    "    # print(line)\n",
    "    for points in generate_points(line):\n",
    "        # print(points)\n",
    "        matrix[points[1]][points[0]] += 1\n",
    "\n",
    "num_overlaps = len([x for row in matrix for x in row if x > 1])\n",
    "num_overlaps\n",
    "\n",
    "# display(len(lines))\n",
    "# display(len(straight_lines))\n"
   ]
  },
  {
   "cell_type": "markdown",
   "metadata": {},
   "source": [
    "# Part 2"
   ]
  },
  {
   "cell_type": "code",
   "execution_count": 61,
   "metadata": {},
   "outputs": [
    {
     "data": {
      "text/plain": [
       "22636"
      ]
     },
     "execution_count": 61,
     "metadata": {},
     "output_type": "execute_result"
    }
   ],
   "source": [
    "import re\n",
    "from IPython.display import display\n",
    "from itertools import product, chain\n",
    "\n",
    "with open(\"input.txt\") as f:\n",
    "    input = f.read()\n",
    "\n",
    "input = [input.split(\"\\n\")][0]\n",
    "del input[-1]\n",
    "lines = []\n",
    "regex = \",| -> \"\n",
    "for line in input:\n",
    "    split_line = re.split(regex, line)\n",
    "    lines.append(\n",
    "        {\n",
    "            \"x1\": int(split_line[0]),\n",
    "            \"y1\": int(split_line[1]),\n",
    "            \"x2\": int(split_line[2]),\n",
    "            \"y2\": int(split_line[3]),\n",
    "        }\n",
    "    )\n",
    "\n",
    "\n",
    "def generate_points(line):\n",
    "    if line[\"x1\"] == line[\"x2\"]:\n",
    "        mini = min(line[\"y1\"], line[\"y2\"])\n",
    "        maxi = max(line[\"y1\"], line[\"y2\"])\n",
    "        return [(line[\"x1\"], y) for y in range(mini, maxi + 1)]\n",
    "    elif line[\"y1\"] == line[\"y2\"]:\n",
    "        mini = min(line[\"x1\"], line[\"x2\"])\n",
    "        maxi = max(line[\"x1\"], line[\"x2\"])\n",
    "        return [(x, line[\"y1\"]) for x in range(mini, maxi + 1)]\n",
    "    else:\n",
    "        # Generate set of diagonal points\n",
    "        x1 = min(line[\"x1\"], line[\"x2\"])\n",
    "        x2 = max(line[\"x1\"], line[\"x2\"])\n",
    "        y1 = min(line[\"y1\"], line[\"y2\"])\n",
    "        y2 = max(line[\"y1\"], line[\"y2\"])\n",
    "        points = []\n",
    "        while x1 <= x2 or y1 <= y2:\n",
    "            points.append((x1, y1))\n",
    "            x1 += 1\n",
    "            y1 += 1\n",
    "        return points\n",
    "\n",
    "\n",
    "dim = max(chain(*[line.values() for line in lines])) + 1\n",
    "# display(dim)\n",
    "matrix = [[0] * dim for none in range(dim)]\n",
    "\n",
    "for line in lines:\n",
    "    # print(line)\n",
    "    for points in generate_points(line):\n",
    "        # print(points)\n",
    "        matrix[points[1]][points[0]] += 1\n",
    "\n",
    "num_overlaps = len([x for row in matrix for x in row if x > 1])\n",
    "num_overlaps\n",
    "\n",
    "# display(len(lines))\n",
    "# display(len(straight_lines))\n"
   ]
  },
  {
   "cell_type": "markdown",
   "metadata": {},
   "source": [
    "22636 is too high."
   ]
  },
  {
   "cell_type": "markdown",
   "metadata": {},
   "source": []
  }
 ],
 "metadata": {
  "interpreter": {
   "hash": "6cc228d2ba9a67a69a72b8a8e6667c5623186cefc5ec4ed38bcbe628c20cf314"
  },
  "kernelspec": {
   "display_name": "Python 3.10.0 64-bit ('advent-env': conda)",
   "language": "python",
   "name": "python3"
  },
  "language_info": {
   "codemirror_mode": {
    "name": "ipython",
    "version": 3
   },
   "file_extension": ".py",
   "mimetype": "text/x-python",
   "name": "python",
   "nbconvert_exporter": "python",
   "pygments_lexer": "ipython3",
   "version": "3.10.0"
  },
  "orig_nbformat": 4
 },
 "nbformat": 4,
 "nbformat_minor": 2
}
