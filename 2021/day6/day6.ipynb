{
 "cells": [
  {
   "cell_type": "code",
   "execution_count": 1,
   "metadata": {},
   "outputs": [
    {
     "ename": "TypeError",
     "evalue": "unsupported operand type(s) for +: 'int' and 'list'",
     "output_type": "error",
     "traceback": [
      "\u001b[1;31m---------------------------------------------------------------------------\u001b[0m",
      "\u001b[1;31mTypeError\u001b[0m                                 Traceback (most recent call last)",
      "\u001b[1;32m~\\AppData\\Local\\Temp/ipykernel_8284/4105631476.py\u001b[0m in \u001b[0;36m<module>\u001b[1;34m\u001b[0m\n\u001b[0;32m     25\u001b[0m \u001b[1;33m\u001b[0m\u001b[0m\n\u001b[0;32m     26\u001b[0m \u001b[1;33m\u001b[0m\u001b[0m\n\u001b[1;32m---> 27\u001b[1;33m \u001b[0msimulate_one_fish\u001b[0m\u001b[1;33m(\u001b[0m\u001b[1;33m[\u001b[0m\u001b[1;33m{\u001b[0m\u001b[1;34m\"value\"\u001b[0m\u001b[1;33m:\u001b[0m \u001b[1;36m0\u001b[0m\u001b[1;33m,\u001b[0m \u001b[1;34m\"starting_day\"\u001b[0m\u001b[1;33m:\u001b[0m\u001b[1;36m0\u001b[0m\u001b[1;33m}\u001b[0m\u001b[1;33m]\u001b[0m\u001b[1;33m,\u001b[0m \u001b[1;36m18\u001b[0m\u001b[1;33m,\u001b[0m \u001b[1;36m0\u001b[0m\u001b[1;33m)\u001b[0m\u001b[1;33m\u001b[0m\u001b[1;33m\u001b[0m\u001b[0m\n\u001b[0m",
      "\u001b[1;32m~\\AppData\\Local\\Temp/ipykernel_8284/4105631476.py\u001b[0m in \u001b[0;36msimulate_one_fish\u001b[1;34m(value, num_days, starting_day)\u001b[0m\n\u001b[0;32m      3\u001b[0m \u001b[1;33m\u001b[0m\u001b[0m\n\u001b[0;32m      4\u001b[0m \u001b[1;32mdef\u001b[0m \u001b[0msimulate_one_fish\u001b[0m\u001b[1;33m(\u001b[0m\u001b[0mvalue\u001b[0m\u001b[1;33m,\u001b[0m \u001b[0mnum_days\u001b[0m\u001b[1;33m,\u001b[0m \u001b[0mstarting_day\u001b[0m\u001b[1;33m)\u001b[0m\u001b[1;33m:\u001b[0m\u001b[1;33m\u001b[0m\u001b[1;33m\u001b[0m\u001b[0m\n\u001b[1;32m----> 5\u001b[1;33m     \u001b[0mbreeding_day\u001b[0m \u001b[1;33m=\u001b[0m \u001b[0mstarting_day\u001b[0m \u001b[1;33m+\u001b[0m \u001b[0mvalue\u001b[0m\u001b[1;33m\u001b[0m\u001b[1;33m\u001b[0m\u001b[0m\n\u001b[0m\u001b[0;32m      6\u001b[0m     \u001b[0mbreeding_days\u001b[0m \u001b[1;33m=\u001b[0m \u001b[1;33m[\u001b[0m\u001b[0mbreeding_day\u001b[0m\u001b[1;33m]\u001b[0m\u001b[1;33m\u001b[0m\u001b[1;33m\u001b[0m\u001b[0m\n\u001b[0;32m      7\u001b[0m     \u001b[1;32mwhile\u001b[0m \u001b[0mbreeding_day\u001b[0m \u001b[1;33m<=\u001b[0m \u001b[0mnum_days\u001b[0m\u001b[1;33m:\u001b[0m\u001b[1;33m\u001b[0m\u001b[1;33m\u001b[0m\u001b[0m\n",
      "\u001b[1;31mTypeError\u001b[0m: unsupported operand type(s) for +: 'int' and 'list'"
     ]
    }
   ],
   "source": [
    "input = \"0\"\n",
    "\n",
    "\n",
    "def simulate_one_fish(value, num_days, starting_day):\n",
    "    breeding_day = starting_day + value\n",
    "    breeding_days = [breeding_day]\n",
    "    while breeding_day <= num_days:\n",
    "        breeding_day += 7\n",
    "        breeding_days.append(breeding_day)\n",
    "    return breeding_days\n",
    "\n",
    "\n",
    "def simulate_fish(fishes, num_days):\n",
    "    num_fish = 0\n",
    "    while fishes:\n",
    "        fish = fishes.pop()\n",
    "        breeding_days = simulate_one_fish(\n",
    "            value=fish[\"value\"],\n",
    "            starting_day=fish[\"starting_day\"],\n",
    "            num_days=num_days,\n",
    "        )\n",
    "        fishes+= [{\"value\":8, \"starting_day\": day} for day in breeding_days]\n",
    "        num_fish += 1\n",
    "    return num_fish\n",
    "\n",
    "\n",
    "simulate_one_fish([{\"value\": 0, \"starting_day\":0}], 18, 0)\n"
   ]
  },
  {
   "cell_type": "code",
   "execution_count": 1,
   "metadata": {},
   "outputs": [
    {
     "data": {
      "text/plain": [
       "[1, 2, 3, 4]"
      ]
     },
     "execution_count": 1,
     "metadata": {},
     "output_type": "execute_result"
    }
   ],
   "source": [
    "list = [1, 2]\n",
    "list += [3, 4]\n",
    "list"
   ]
  },
  {
   "cell_type": "code",
   "execution_count": 2,
   "metadata": {},
   "outputs": [
    {
     "data": {
      "text/html": [
       "<div>\n",
       "<style scoped>\n",
       "    .dataframe tbody tr th:only-of-type {\n",
       "        vertical-align: middle;\n",
       "    }\n",
       "\n",
       "    .dataframe tbody tr th {\n",
       "        vertical-align: top;\n",
       "    }\n",
       "\n",
       "    .dataframe thead th {\n",
       "        text-align: right;\n",
       "    }\n",
       "</style>\n",
       "<table border=\"1\" class=\"dataframe\">\n",
       "  <thead>\n",
       "    <tr style=\"text-align: right;\">\n",
       "      <th></th>\n",
       "      <th>input</th>\n",
       "      <th>num_days</th>\n",
       "      <th>num_fishes</th>\n",
       "      <th>total_time</th>\n",
       "    </tr>\n",
       "  </thead>\n",
       "  <tbody>\n",
       "  </tbody>\n",
       "</table>\n",
       "</div>"
      ],
      "text/plain": [
       "Empty DataFrame\n",
       "Columns: [input,  num_days,  num_fishes,  total_time]\n",
       "Index: []"
      ]
     },
     "execution_count": 2,
     "metadata": {},
     "output_type": "execute_result"
    }
   ],
   "source": [
    "import pandas as pd\n",
    "\n",
    "df = pd.read_csv(\"data.csv\")\n",
    "df"
   ]
  },
  {
   "cell_type": "code",
   "execution_count": 5,
   "metadata": {},
   "outputs": [
    {
     "name": "stdout",
     "output_type": "stream",
     "text": [
      "day=1\n",
      "fishes=[0]\n",
      "day=2\n",
      "fishes=[6, 8]\n",
      "day=3\n",
      "fishes=[5, 7]\n",
      "day=4\n",
      "fishes=[4, 6]\n",
      "day=5\n",
      "fishes=[3, 5]\n",
      "day=6\n",
      "fishes=[2, 4]\n",
      "day=7\n",
      "fishes=[1, 3]\n",
      "day=8\n",
      "fishes=[0, 2]\n",
      "day=9\n",
      "fishes=[6, 1, 8]\n",
      "day=10\n",
      "fishes=[5, 0, 7]\n",
      "day=11\n",
      "fishes=[4, 6, 6, 8]\n",
      "day=12\n",
      "fishes=[3, 5, 5, 7]\n",
      "day=13\n",
      "fishes=[2, 4, 4, 6]\n",
      "day=14\n",
      "fishes=[1, 3, 3, 5]\n",
      "day=15\n",
      "fishes=[0, 2, 2, 4]\n",
      "day=16\n",
      "fishes=[6, 1, 1, 3, 8]\n",
      "day=17\n",
      "fishes=[5, 0, 0, 2, 7]\n",
      "day=18\n",
      "fishes=[4, 6, 6, 1, 6, 8, 8]\n",
      "day=19\n",
      "fishes=[3, 5, 5, 0, 5, 7, 7]\n",
      "day=20\n",
      "fishes=[2, 4, 4, 6, 4, 6, 6, 8]\n",
      "day=21\n",
      "fishes=[1, 3, 3, 5, 3, 5, 5, 7]\n",
      "day=22\n",
      "fishes=[0, 2, 2, 4, 2, 4, 4, 6]\n",
      "day=23\n",
      "fishes=[6, 1, 1, 3, 1, 3, 3, 5, 8]\n",
      "day=24\n",
      "fishes=[5, 0, 0, 2, 0, 2, 2, 4, 7]\n",
      "day=25\n",
      "fishes=[4, 6, 6, 1, 6, 1, 1, 3, 6, 8, 8, 8]\n",
      "day=26\n",
      "fishes=[3, 5, 5, 0, 5, 0, 0, 2, 5, 7, 7, 7]\n",
      "day=27\n",
      "fishes=[2, 4, 4, 6, 4, 6, 6, 1, 4, 6, 6, 6, 8, 8, 8]\n",
      "day=28\n",
      "fishes=[1, 3, 3, 5, 3, 5, 5, 0, 3, 5, 5, 5, 7, 7, 7]\n",
      "day=29\n",
      "fishes=[0, 2, 2, 4, 2, 4, 4, 6, 2, 4, 4, 4, 6, 6, 6, 8]\n",
      "day=30\n",
      "fishes=[6, 1, 1, 3, 1, 3, 3, 5, 1, 3, 3, 3, 5, 5, 5, 7, 8]\n",
      "day=31\n",
      "fishes=[5, 0, 0, 2, 0, 2, 2, 4, 0, 2, 2, 2, 4, 4, 4, 6, 7]\n",
      "day=32\n",
      "fishes=[4, 6, 6, 1, 6, 1, 1, 3, 6, 1, 1, 1, 3, 3, 3, 5, 6, 8, 8, 8, 8]\n",
      "day=33\n",
      "fishes=[3, 5, 5, 0, 5, 0, 0, 2, 5, 0, 0, 0, 2, 2, 2, 4, 5, 7, 7, 7, 7]\n",
      "day=34\n",
      "fishes=[2, 4, 4, 6, 4, 6, 6, 1, 4, 6, 6, 6, 1, 1, 1, 3, 4, 6, 6, 6, 6, 8, 8, 8, 8, 8, 8]\n",
      "day=35\n",
      "fishes=[1, 3, 3, 5, 3, 5, 5, 0, 3, 5, 5, 5, 0, 0, 0, 2, 3, 5, 5, 5, 5, 7, 7, 7, 7, 7, 7]\n",
      "day=36\n",
      "fishes=[0, 2, 2, 4, 2, 4, 4, 6, 2, 4, 4, 4, 6, 6, 6, 1, 2, 4, 4, 4, 4, 6, 6, 6, 6, 6, 6, 8, 8, 8, 8]\n",
      "day=37\n",
      "fishes=[6, 1, 1, 3, 1, 3, 3, 5, 1, 3, 3, 3, 5, 5, 5, 0, 1, 3, 3, 3, 3, 5, 5, 5, 5, 5, 5, 7, 7, 7, 7, 8]\n",
      "day=38\n",
      "fishes=[5, 0, 0, 2, 0, 2, 2, 4, 0, 2, 2, 2, 4, 4, 4, 6, 0, 2, 2, 2, 2, 4, 4, 4, 4, 4, 4, 6, 6, 6, 6, 7, 8]\n",
      "day=39\n",
      "fishes=[4, 6, 6, 1, 6, 1, 1, 3, 6, 1, 1, 1, 3, 3, 3, 5, 6, 1, 1, 1, 1, 3, 3, 3, 3, 3, 3, 5, 5, 5, 5, 6, 7, 8, 8, 8, 8, 8]\n",
      "day=40\n",
      "fishes=[3, 5, 5, 0, 5, 0, 0, 2, 5, 0, 0, 0, 2, 2, 2, 4, 5, 0, 0, 0, 0, 2, 2, 2, 2, 2, 2, 4, 4, 4, 4, 5, 6, 7, 7, 7, 7, 7]\n",
      "day=41\n",
      "fishes=[2, 4, 4, 6, 4, 6, 6, 1, 4, 6, 6, 6, 1, 1, 1, 3, 4, 6, 6, 6, 6, 1, 1, 1, 1, 1, 1, 3, 3, 3, 3, 4, 5, 6, 6, 6, 6, 6, 8, 8, 8, 8, 8, 8, 8, 8, 8, 8]\n",
      "day=42\n",
      "fishes=[1, 3, 3, 5, 3, 5, 5, 0, 3, 5, 5, 5, 0, 0, 0, 2, 3, 5, 5, 5, 5, 0, 0, 0, 0, 0, 0, 2, 2, 2, 2, 3, 4, 5, 5, 5, 5, 5, 7, 7, 7, 7, 7, 7, 7, 7, 7, 7]\n",
      "day=43\n",
      "fishes=[0, 2, 2, 4, 2, 4, 4, 6, 2, 4, 4, 4, 6, 6, 6, 1, 2, 4, 4, 4, 4, 6, 6, 6, 6, 6, 6, 1, 1, 1, 1, 2, 3, 4, 4, 4, 4, 4, 6, 6, 6, 6, 6, 6, 6, 6, 6, 6, 8, 8, 8, 8, 8, 8, 8, 8, 8, 8]\n",
      "day=44\n",
      "fishes=[6, 1, 1, 3, 1, 3, 3, 5, 1, 3, 3, 3, 5, 5, 5, 0, 1, 3, 3, 3, 3, 5, 5, 5, 5, 5, 5, 0, 0, 0, 0, 1, 2, 3, 3, 3, 3, 3, 5, 5, 5, 5, 5, 5, 5, 5, 5, 5, 7, 7, 7, 7, 7, 7, 7, 7, 7, 7, 8]\n",
      "day=45\n",
      "fishes=[5, 0, 0, 2, 0, 2, 2, 4, 0, 2, 2, 2, 4, 4, 4, 6, 0, 2, 2, 2, 2, 4, 4, 4, 4, 4, 4, 6, 6, 6, 6, 0, 1, 2, 2, 2, 2, 2, 4, 4, 4, 4, 4, 4, 4, 4, 4, 4, 6, 6, 6, 6, 6, 6, 6, 6, 6, 6, 7, 8, 8, 8, 8, 8]\n",
      "day=46\n",
      "fishes=[4, 6, 6, 1, 6, 1, 1, 3, 6, 1, 1, 1, 3, 3, 3, 5, 6, 1, 1, 1, 1, 3, 3, 3, 3, 3, 3, 5, 5, 5, 5, 6, 0, 1, 1, 1, 1, 1, 3, 3, 3, 3, 3, 3, 3, 3, 3, 3, 5, 5, 5, 5, 5, 5, 5, 5, 5, 5, 6, 7, 7, 7, 7, 7, 8, 8, 8, 8, 8, 8]\n",
      "day=47\n",
      "fishes=[3, 5, 5, 0, 5, 0, 0, 2, 5, 0, 0, 0, 2, 2, 2, 4, 5, 0, 0, 0, 0, 2, 2, 2, 2, 2, 2, 4, 4, 4, 4, 5, 6, 0, 0, 0, 0, 0, 2, 2, 2, 2, 2, 2, 2, 2, 2, 2, 4, 4, 4, 4, 4, 4, 4, 4, 4, 4, 5, 6, 6, 6, 6, 6, 7, 7, 7, 7, 7, 7, 8]\n",
      "day=48\n",
      "fishes=[2, 4, 4, 6, 4, 6, 6, 1, 4, 6, 6, 6, 1, 1, 1, 3, 4, 6, 6, 6, 6, 1, 1, 1, 1, 1, 1, 3, 3, 3, 3, 4, 5, 6, 6, 6, 6, 6, 1, 1, 1, 1, 1, 1, 1, 1, 1, 1, 3, 3, 3, 3, 3, 3, 3, 3, 3, 3, 4, 5, 5, 5, 5, 5, 6, 6, 6, 6, 6, 6, 7, 8, 8, 8, 8, 8, 8, 8, 8, 8, 8, 8, 8, 8, 8, 8]\n",
      "day=49\n",
      "fishes=[1, 3, 3, 5, 3, 5, 5, 0, 3, 5, 5, 5, 0, 0, 0, 2, 3, 5, 5, 5, 5, 0, 0, 0, 0, 0, 0, 2, 2, 2, 2, 3, 4, 5, 5, 5, 5, 5, 0, 0, 0, 0, 0, 0, 0, 0, 0, 0, 2, 2, 2, 2, 2, 2, 2, 2, 2, 2, 3, 4, 4, 4, 4, 4, 5, 5, 5, 5, 5, 5, 6, 7, 7, 7, 7, 7, 7, 7, 7, 7, 7, 7, 7, 7, 7, 7]\n"
     ]
    },
    {
     "data": {
      "text/plain": [
       "106"
      ]
     },
     "execution_count": 5,
     "metadata": {},
     "output_type": "execute_result"
    }
   ],
   "source": [
    "from day6slow import slow_solve_day_6\n",
    "input = \"0\"\n",
    "output = slow_solve_day_6(input=input, num_days=49)\n",
    "output\n"
   ]
  },
  {
   "cell_type": "code",
   "execution_count": null,
   "metadata": {},
   "outputs": [],
   "source": []
  }
 ],
 "metadata": {
  "interpreter": {
   "hash": "6cc228d2ba9a67a69a72b8a8e6667c5623186cefc5ec4ed38bcbe628c20cf314"
  },
  "kernelspec": {
   "display_name": "Python 3.10.0 64-bit ('advent-env': conda)",
   "language": "python",
   "name": "python3"
  },
  "language_info": {
   "codemirror_mode": {
    "name": "ipython",
    "version": 3
   },
   "file_extension": ".py",
   "mimetype": "text/x-python",
   "name": "python",
   "nbconvert_exporter": "python",
   "pygments_lexer": "ipython3",
   "version": "3.10.0"
  },
  "orig_nbformat": 4
 },
 "nbformat": 4,
 "nbformat_minor": 2
}
