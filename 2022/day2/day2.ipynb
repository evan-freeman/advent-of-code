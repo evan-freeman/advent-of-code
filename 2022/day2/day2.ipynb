{
 "cells": [
  {
   "cell_type": "markdown",
   "metadata": {},
   "source": [
    "# Puzzle 1"
   ]
  },
  {
   "cell_type": "code",
   "execution_count": 20,
   "metadata": {},
   "outputs": [
    {
     "data": {
      "text/html": [
       "<div>\n",
       "<style scoped>\n",
       "    .dataframe tbody tr th:only-of-type {\n",
       "        vertical-align: middle;\n",
       "    }\n",
       "\n",
       "    .dataframe tbody tr th {\n",
       "        vertical-align: top;\n",
       "    }\n",
       "\n",
       "    .dataframe thead th {\n",
       "        text-align: right;\n",
       "    }\n",
       "</style>\n",
       "<table border=\"1\" class=\"dataframe\">\n",
       "  <thead>\n",
       "    <tr style=\"text-align: right;\">\n",
       "      <th></th>\n",
       "      <th>raw</th>\n",
       "      <th>opponent</th>\n",
       "      <th>strategy</th>\n",
       "      <th>outcome</th>\n",
       "      <th>move_score</th>\n",
       "      <th>outcome_score</th>\n",
       "      <th>score</th>\n",
       "    </tr>\n",
       "  </thead>\n",
       "  <tbody>\n",
       "    <tr>\n",
       "      <th>0</th>\n",
       "      <td>B Z</td>\n",
       "      <td>paper</td>\n",
       "      <td>scissors</td>\n",
       "      <td>win</td>\n",
       "      <td>3</td>\n",
       "      <td>6</td>\n",
       "      <td>9</td>\n",
       "    </tr>\n",
       "    <tr>\n",
       "      <th>1</th>\n",
       "      <td>B X</td>\n",
       "      <td>paper</td>\n",
       "      <td>rock</td>\n",
       "      <td>lose</td>\n",
       "      <td>1</td>\n",
       "      <td>0</td>\n",
       "      <td>1</td>\n",
       "    </tr>\n",
       "    <tr>\n",
       "      <th>2</th>\n",
       "      <td>C Y</td>\n",
       "      <td>scissors</td>\n",
       "      <td>paper</td>\n",
       "      <td>lose</td>\n",
       "      <td>2</td>\n",
       "      <td>0</td>\n",
       "      <td>2</td>\n",
       "    </tr>\n",
       "    <tr>\n",
       "      <th>3</th>\n",
       "      <td>B Y</td>\n",
       "      <td>paper</td>\n",
       "      <td>paper</td>\n",
       "      <td>draw</td>\n",
       "      <td>2</td>\n",
       "      <td>3</td>\n",
       "      <td>5</td>\n",
       "    </tr>\n",
       "    <tr>\n",
       "      <th>4</th>\n",
       "      <td>B Y</td>\n",
       "      <td>paper</td>\n",
       "      <td>paper</td>\n",
       "      <td>draw</td>\n",
       "      <td>2</td>\n",
       "      <td>3</td>\n",
       "      <td>5</td>\n",
       "    </tr>\n",
       "    <tr>\n",
       "      <th>...</th>\n",
       "      <td>...</td>\n",
       "      <td>...</td>\n",
       "      <td>...</td>\n",
       "      <td>...</td>\n",
       "      <td>...</td>\n",
       "      <td>...</td>\n",
       "      <td>...</td>\n",
       "    </tr>\n",
       "    <tr>\n",
       "      <th>2495</th>\n",
       "      <td>C Y</td>\n",
       "      <td>scissors</td>\n",
       "      <td>paper</td>\n",
       "      <td>lose</td>\n",
       "      <td>2</td>\n",
       "      <td>0</td>\n",
       "      <td>2</td>\n",
       "    </tr>\n",
       "    <tr>\n",
       "      <th>2496</th>\n",
       "      <td>B Y</td>\n",
       "      <td>paper</td>\n",
       "      <td>paper</td>\n",
       "      <td>draw</td>\n",
       "      <td>2</td>\n",
       "      <td>3</td>\n",
       "      <td>5</td>\n",
       "    </tr>\n",
       "    <tr>\n",
       "      <th>2497</th>\n",
       "      <td>B Y</td>\n",
       "      <td>paper</td>\n",
       "      <td>paper</td>\n",
       "      <td>draw</td>\n",
       "      <td>2</td>\n",
       "      <td>3</td>\n",
       "      <td>5</td>\n",
       "    </tr>\n",
       "    <tr>\n",
       "      <th>2498</th>\n",
       "      <td>C Y</td>\n",
       "      <td>scissors</td>\n",
       "      <td>paper</td>\n",
       "      <td>lose</td>\n",
       "      <td>2</td>\n",
       "      <td>0</td>\n",
       "      <td>2</td>\n",
       "    </tr>\n",
       "    <tr>\n",
       "      <th>2499</th>\n",
       "      <td>B Y</td>\n",
       "      <td>paper</td>\n",
       "      <td>paper</td>\n",
       "      <td>draw</td>\n",
       "      <td>2</td>\n",
       "      <td>3</td>\n",
       "      <td>5</td>\n",
       "    </tr>\n",
       "  </tbody>\n",
       "</table>\n",
       "<p>2500 rows × 7 columns</p>\n",
       "</div>"
      ],
      "text/plain": [
       "      raw  opponent  strategy outcome  move_score  outcome_score  score\n",
       "0     B Z     paper  scissors     win           3              6      9\n",
       "1     B X     paper      rock    lose           1              0      1\n",
       "2     C Y  scissors     paper    lose           2              0      2\n",
       "3     B Y     paper     paper    draw           2              3      5\n",
       "4     B Y     paper     paper    draw           2              3      5\n",
       "...   ...       ...       ...     ...         ...            ...    ...\n",
       "2495  C Y  scissors     paper    lose           2              0      2\n",
       "2496  B Y     paper     paper    draw           2              3      5\n",
       "2497  B Y     paper     paper    draw           2              3      5\n",
       "2498  C Y  scissors     paper    lose           2              0      2\n",
       "2499  B Y     paper     paper    draw           2              3      5\n",
       "\n",
       "[2500 rows x 7 columns]"
      ]
     },
     "execution_count": 20,
     "metadata": {},
     "output_type": "execute_result"
    }
   ],
   "source": [
    "import pandas as pd"
   ]
  },
  {
   "cell_type": "code",
   "execution_count": null,
   "metadata": {},
   "outputs": [],
   "source": [
    "\n",
    "df = pd.read_csv(\"input.txt\", header=None, names = [\"raw\"])\n",
    "df[[\"opponent\", \"strategy\"]] = df[\"raw\"].str.split(\" \", expand=True)\n",
    "\n",
    "score_dict = {\n",
    "    \"rock\": 1,\n",
    "    \"paper\": 2,\n",
    "    \"scissors\": 3,\n",
    "    \"lose\": 0,\n",
    "    \"draw\": 3,\n",
    "    \"win\": 6,\n",
    "}\n",
    "\n",
    "name_dict = {\n",
    "    \"A\": \"rock\",\n",
    "    \"B\": \"paper\",\n",
    "    \"C\": \"scissors\",\n",
    "    \"X\": \"rock\",\n",
    "    \"Y\": \"paper\",\n",
    "    \"Z\": \"scissors\",\n",
    "}\n",
    "\n",
    "def outcome(row):\n",
    "    opponent = row.opponent\n",
    "    strategy = row.strategy\n",
    "    if opponent == strategy:\n",
    "        return \"draw\"\n",
    "    elif (\n",
    "        (opponent == \"rock\" and strategy == \"paper\")\n",
    "        or (opponent == \"paper\" and strategy == \"scissors\")\n",
    "        or (opponent == \"scissors\" and strategy == \"rock\")\n",
    "    ):\n",
    "        return \"win\"\n",
    "    else:\n",
    "        return \"lose\"\n",
    "\n",
    "df[[\"opponent\", \"strategy\"]] = df[[\"opponent\", \"strategy\"]].replace(name_dict)\n",
    "\n",
    "df[\"outcome\"] = df.apply(outcome, axis = 1)\n",
    "df[[\"move_score\", \"outcome_score\"]] = df[[\"strategy\", \"outcome\"]].replace(score_dict)\n",
    "df[\"score\"] = df.move_score + df.outcome_score\n",
    "\n",
    "df"
   ]
  },
  {
   "cell_type": "code",
   "execution_count": 21,
   "metadata": {},
   "outputs": [
    {
     "data": {
      "text/plain": [
       "11666"
      ]
     },
     "execution_count": 21,
     "metadata": {},
     "output_type": "execute_result"
    }
   ],
   "source": [
    "answer = df.score.sum()\n",
    "answer"
   ]
  },
  {
   "cell_type": "markdown",
   "metadata": {},
   "source": [
    "# Part 2"
   ]
  },
  {
   "cell_type": "code",
   "execution_count": 22,
   "metadata": {},
   "outputs": [
    {
     "data": {
      "text/plain": [
       "['rock', 'paper', 'scissors', 'rock', 'paper', 'scissors']"
      ]
     },
     "execution_count": 22,
     "metadata": {},
     "output_type": "execute_result"
    }
   ],
   "source": [
    "game = [\"rock\", \"paper\", \"scissors\"] * 2\n"
   ]
  },
  {
   "cell_type": "markdown",
   "metadata": {},
   "source": []
  }
 ],
 "metadata": {
  "kernelspec": {
   "display_name": "Python 3.10.0 ('advent-env')",
   "language": "python",
   "name": "python3"
  },
  "language_info": {
   "codemirror_mode": {
    "name": "ipython",
    "version": 3
   },
   "file_extension": ".py",
   "mimetype": "text/x-python",
   "name": "python",
   "nbconvert_exporter": "python",
   "pygments_lexer": "ipython3",
   "version": "3.10.0"
  },
  "orig_nbformat": 4,
  "vscode": {
   "interpreter": {
    "hash": "b929b7ef6474971da379114b5439212852b9d5f137eba878497ae6ed76f895ca"
   }
  }
 },
 "nbformat": 4,
 "nbformat_minor": 2
}
